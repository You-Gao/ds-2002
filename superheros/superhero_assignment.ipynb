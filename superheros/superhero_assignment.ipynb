{
  "cells": [
    {
      "cell_type": "markdown",
      "metadata": {
        "colab_type": "text",
        "id": "view-in-github"
      },
      "source": [
        "<a href=\"https://colab.research.google.com/github/fourfeatherz/DS2002S25/blob/main/python/superhero_assignment.ipynb\" target=\"_parent\"><img src=\"https://colab.research.google.com/assets/colab-badge.svg\" alt=\"Open In Colab\"/></a>"
      ]
    },
    {
      "cell_type": "markdown",
      "id": "5fa8dcf6",
      "metadata": {
        "id": "5fa8dcf6"
      },
      "source": [
        "# Superhero Database Assignment (SQLite & Google Colab)\n",
        "\n",
        "## Objective\n",
        "In this assignment, you will design and implement a **Superhero Database** using SQLite in Google Colab. This database will store superheroes, villains, and their battles. You will write SQL queries to analyze battle outcomes and relationships between heroes and villains.\n",
        "\n",
        "### Group Size:\n",
        "- 2 to 3 students per group.\n",
        "\n",
        "### Tools Required:\n",
        "- **Google Colab**\n",
        "- **SQLite (built into Python)**\n",
        "- **CSV files (provided for import)**"
      ]
    },
    {
      "cell_type": "markdown",
      "id": "5535e625",
      "metadata": {
        "id": "5535e625"
      },
      "source": [
        "## Step 1: Setting Up Your SQLite Database\n",
        "\n",
        "### Tasks:\n",
        "1. Initialize SQLite in Google Colab.\n",
        "2. Create a database named `superhero_db.sqlite`.\n",
        "3. Define the database schema, ensuring it includes the following tables:\n",
        "   - `heroes`: Stores superhero names, powers, and teams.\n",
        "   - `villains`: Stores villains and their evil plans.\n",
        "   - `battles`: Tracks battles between heroes and villains, including the outcome.\n",
        "4. Implement primary keys and foreign keys where appropriate.\n",
        "\n",
        "✅ **Checkpoint:** Ensure that the database and tables have been successfully created."
      ]
    },
    {
      "cell_type": "markdown",
      "id": "e377eb73",
      "metadata": {},
      "source": [
        "### Database Schema\n",
        "\n",
        "#### Heroes:\n",
        "\n",
        "* INT Primary Key Autoincrement\n",
        "* STR Name Not Null Unique\n",
        "* INT Foreign Key Powers\n",
        "\n",
        "#### Powers:\n",
        "\n",
        "* INT Primary Key Autoincrement\n",
        "* STR Power Not Null Unique\n",
        "\n",
        "#### Villain:\n",
        "\n",
        "* INT Primary Key Autoincrement\n",
        "* STR Name Not Null Unique\n",
        "* INT Foreign Key Powers\n",
        "\n",
        "#### Battles:\n",
        "* INT Primary Key Autoincrement\n",
        "* INT Foreign Key Heroes\n",
        "* INT Foreign Key Villain\n",
        "* ENUM -1,0,1 (LOSE,TIE,WIN)\n",
        "\n",
        "Scratch that I thought we were suppose to design our own"
      ]
    },
    {
      "cell_type": "code",
      "execution_count": 19,
      "id": "cdaba4d2",
      "metadata": {},
      "outputs": [
        {
          "data": {
            "text/plain": [
              "<sqlite3.Cursor at 0x2a5cc8e29c0>"
            ]
          },
          "execution_count": 19,
          "metadata": {},
          "output_type": "execute_result"
        }
      ],
      "source": [
        "import sqlite3\n",
        "\n",
        "conn = sqlite3.connect(':memory:')\n",
        "cursor = conn.cursor()\n",
        "\n",
        "# heroes table\n",
        "cursor.execute('''\n",
        "CREATE TABLE IF NOT EXISTS heroes (\n",
        "    id INTEGER PRIMARY KEY AUTOINCREMENT,\n",
        "    name TEXT NOT NULL UNIQUE,\n",
        "    power TEXT NOT NULL,\n",
        "    team TEXT NOT NULL\n",
        ")\n",
        "''')\n",
        "\n",
        "# villain table\n",
        "cursor.execute('''\n",
        "CREATE TABLE IF NOT EXISTS villains (\n",
        "    id INTEGER PRIMARY KEY AUTOINCREMENT,\n",
        "    name TEXT NOT NULL UNIQUE,\n",
        "    evil_plan TEXT NOT NULL\n",
        ")\n",
        "''')\n",
        "\n",
        "# battles table\n",
        "cursor.execute('''\n",
        "CREATE TABLE IF NOT EXISTS battles (\n",
        "    id INTEGER PRIMARY KEY AUTOINCREMENT,\n",
        "    hero_id INTEGER,\n",
        "    villain_id INTEGER,\n",
        "    outcome TEXT NOT NULL\n",
        "    )\n",
        "''')"
      ]
    },
    {
      "cell_type": "code",
      "execution_count": 20,
      "id": "72ee2f94",
      "metadata": {},
      "outputs": [
        {
          "name": "stdout",
          "output_type": "stream",
          "text": [
            "('heroes',)\n",
            "('villains',)\n",
            "('battles',)\n"
          ]
        }
      ],
      "source": [
        "cursor.execute('''\n",
        "    SELECT \n",
        "        name\n",
        "    FROM \n",
        "        sqlite_schema\n",
        "    WHERE \n",
        "        type ='table' AND \n",
        "        name NOT LIKE 'sqlite_%';\n",
        "''')\n",
        "\n",
        "for row in cursor.fetchall():\n",
        "    print(row)"
      ]
    },
    {
      "cell_type": "markdown",
      "id": "d3b6a8b7",
      "metadata": {},
      "source": []
    },
    {
      "cell_type": "markdown",
      "id": "154b3c3a",
      "metadata": {
        "id": "154b3c3a"
      },
      "source": [
        "## Step 2: Import Data from CSV Files\n",
        "\n",
        "### Tasks:\n",
        "1. Download the provided CSV files.\n",
        "2. Upload them to Google Colab.\n",
        "3. Write a script to import data from these files into the appropriate tables.\n",
        "4. Verify that the data has been successfully inserted.\n",
        "\n",
        "✅ **Checkpoint:** Ensure that each table contains the expected data from the CSV files."
      ]
    },
    {
      "cell_type": "code",
      "execution_count": 21,
      "id": "59bc4f32",
      "metadata": {},
      "outputs": [
        {
          "data": {
            "text/plain": [
              "<sqlite3.Cursor at 0x2a5cc8e29c0>"
            ]
          },
          "execution_count": 21,
          "metadata": {},
          "output_type": "execute_result"
        }
      ],
      "source": [
        "import pandas as pd\n",
        "\n",
        "heroes_df = pd.read_csv(\"heroes.csv\")\n",
        "villains_df = pd.read_csv(\"villains.csv\")\n",
        "battles_df = pd.read_csv(\"battles.csv\")\n",
        "\n",
        "heroes_df = heroes_df.drop(columns=[\"id\"])\n",
        "villains_df = villains_df.drop(columns=[\"id\"])\n",
        "battles_df = battles_df.drop(columns=[\"id\"])\n",
        "\n",
        "cursor.executemany('''\n",
        "    INSERT INTO heroes (name, power, team)\n",
        "    VALUES (?, ?, ?)\n",
        "''', heroes_df.values)\n",
        "\n",
        "cursor.executemany('''\n",
        "    INSERT INTO villains (name, evil_plan)\n",
        "    VALUES (?, ?)\n",
        "''', villains_df.values)\n",
        "\n",
        "cursor.executemany('''\n",
        "    INSERT INTO battles (hero_id, villain_id, outcome)\n",
        "    VALUES (?, ?, ?)\n",
        "''', battles_df.values)"
      ]
    },
    {
      "cell_type": "code",
      "execution_count": 22,
      "id": "a50b654b",
      "metadata": {},
      "outputs": [
        {
          "name": "stdout",
          "output_type": "stream",
          "text": [
            "(10,)\n",
            "(10,)\n",
            "(30,)\n"
          ]
        }
      ],
      "source": [
        "# Verify the data\n",
        "cursor.execute('''\n",
        "               SELECT COUNT(*) FROM heroes\n",
        "                ''')\n",
        "print(cursor.fetchone())\n",
        "cursor.execute('''\n",
        "                SELECT COUNT(*) FROM villains\n",
        "                 ''')\n",
        "print(cursor.fetchone())\n",
        "\n",
        "cursor.execute('''\n",
        "                SELECT COUNT(*) FROM battles\n",
        "                 ''')\n",
        "print(cursor.fetchone())\n"
      ]
    },
    {
      "cell_type": "markdown",
      "id": "33548d9f",
      "metadata": {
        "id": "33548d9f"
      },
      "source": [
        "## Step 3: Querying the Database\n",
        "\n",
        "### Tasks:\n",
        "Write SQL queries to answer the following:\n",
        "1. Retrieve all superheroes and their powers.\n",
        "2. Find all battles where the hero won.\n",
        "3. List all villains and their evil plans.\n",
        "4. Determine which superhero has fought the most battles.\n",
        "\n",
        "✅ **Checkpoint:** Ensure that all queries return meaningful results from the database."
      ]
    },
    {
      "cell_type": "code",
      "execution_count": null,
      "id": "74178fc8",
      "metadata": {},
      "outputs": [
        {
          "name": "stdout",
          "output_type": "stream",
          "text": [
            "[(1, 'Spider-Man', 'Web-slinging', 'Avengers'), (2, 'Iron Man', 'Powered Armor', 'Avengers'), (3, 'Batman', 'Genius Detective', 'Justice League'), (4, 'Superman', 'Super Strength', 'Justice League'), (5, 'Thor', 'God of Thunder', 'Avengers'), (6, 'Wonder Woman', 'Amazonian Strength', 'Justice League'), (7, 'Black Panther', 'Enhanced Agility', 'Avengers'), (8, 'The Flash', 'Super Speed', 'Justice League'), (9, 'Hulk', 'Super Strength', 'Avengers'), (10, 'Doctor Strange', 'Mystic Arts', 'Avengers')]\n",
            "[(9, 'Hulk', 'Super Strength', 'Avengers', 2, 9, 3, 'Hero Wins'), (1, 'Spider-Man', 'Web-slinging', 'Avengers', 5, 1, 7, 'Hero Wins'), (9, 'Hulk', 'Super Strength', 'Avengers', 7, 9, 8, 'Hero Wins'), (3, 'Batman', 'Genius Detective', 'Justice League', 8, 3, 2, 'Hero Wins'), (7, 'Black Panther', 'Enhanced Agility', 'Avengers', 9, 7, 5, 'Hero Wins'), (8, 'The Flash', 'Super Speed', 'Justice League', 13, 8, 9, 'Hero Wins'), (3, 'Batman', 'Genius Detective', 'Justice League', 20, 3, 4, 'Hero Wins'), (3, 'Batman', 'Genius Detective', 'Justice League', 29, 3, 5, 'Hero Wins'), (5, 'Thor', 'God of Thunder', 'Avengers', 30, 5, 5, 'Hero Wins')]\n",
            "[(1, 'Green Goblin', 'Terrorize New York'), (2, 'Thanos', 'Collect all Infinity Stones'), (3, 'Joker', 'Spread chaos in Gotham'), (4, 'Lex Luthor', 'Defeat Superman'), (5, 'Loki', 'Trick humanity into worshiping him'), (6, 'Ultron', 'AI world domination'), (7, 'Darkseid', 'Control the universe'), (8, 'Venom', 'Consume Spider-Man'), (9, 'Magneto', 'Mutant supremacy'), (10, 'Red Skull', 'Revive Hydra')]\n",
            "('Batman', 3)\n"
          ]
        }
      ],
      "source": [
        "cursor.execute('''\n",
        "                SELECT * FROM heroes\n",
        "                 ''')\n",
        "print(cursor.fetchall())\n",
        "\n",
        "cursor.execute('''\n",
        "               SELECT * FROM heroes LEFT JOIN battles ON heroes.id = battles.hero_id WHERE battles.outcome = 'Hero Wins'\n",
        "                ''')\n",
        "print(cursor.fetchall())\n",
        "\n",
        "cursor.execute('''\n",
        "               SELECT * FROM villains\n",
        "               ''')\n",
        "print(cursor.fetchall())\n",
        "\n",
        "cursor.execute('''\n",
        "    SELECT heroes.name, COUNT(battles.id) AS win_count FROM heroes LEFT JOIN battles ON heroes.id = battles.hero_id\n",
        "    WHERE battles.outcome = 'Hero Wins' GROUP BY heroes.name ORDER BY win_count DESC\n",
        "''')\n",
        "print(cursor.fetchone())"
      ]
    },
    {
      "cell_type": "markdown",
      "id": "de8bda94",
      "metadata": {
        "id": "de8bda94"
      },
      "source": [
        "## Step 4: Add a Custom Feature\n",
        "\n",
        "### Tasks:\n",
        "1. Design and implement an additional table related to superheroes or villains.\n",
        "2. Populate it with data.\n",
        "3. Write at least one query to retrieve meaningful insights from the new table.\n",
        "\n",
        "**Examples of Custom Features:**\n",
        "- Sidekicks for superheroes\n",
        "- Villain hideouts\n",
        "- Battle locations\n",
        "- Superhero equipment\n",
        "\n",
        "✅ **Checkpoint:** Ensure that the new table and queries function correctly."
      ]
    },
    {
      "cell_type": "code",
      "execution_count": 29,
      "id": "a1c60aca",
      "metadata": {},
      "outputs": [
        {
          "name": "stdout",
          "output_type": "stream",
          "text": [
            "(1, 'Spider-Man', 'New York City', 1, 'Spider-Man', 'Web-slinging', 'Avengers', None, None, None)\n",
            "(2, 'Iron Man', 'New York City', 2, 'Iron Man', 'Powered Armor', 'Avengers', None, None, None)\n",
            "(10, 'Doctor Strange', 'New York City', 10, 'Doctor Strange', 'Mystic Arts', 'Avengers', None, None, None)\n",
            "(11, 'Green Goblin', 'New York City', None, None, None, None, 1, 'Green Goblin', 'Terrorize New York')\n",
            "(21, 'Spider-Man', 'New York City', 1, 'Spider-Man', 'Web-slinging', 'Avengers', None, None, None)\n",
            "(22, 'Iron Man', 'New York City', 2, 'Iron Man', 'Powered Armor', 'Avengers', None, None, None)\n",
            "(30, 'Doctor Strange', 'New York City', 10, 'Doctor Strange', 'Mystic Arts', 'Avengers', None, None, None)\n",
            "(31, 'Green Goblin', 'New York City', None, None, None, None, 1, 'Green Goblin', 'Terrorize New York')\n"
          ]
        }
      ],
      "source": [
        "cursor.execute('''\n",
        "CREATE TABLE IF NOT EXISTS origins (\n",
        "    id INTEGER PRIMARY KEY AUTOINCREMENT,\n",
        "    name TEXT NOT NULL,\n",
        "    origin TEXT NOT NULL\n",
        ")\n",
        "''')\n",
        "\n",
        "origins_df = pd.read_csv(\"origins.csv\")\n",
        "origins_df = origins_df.drop(columns=[\"id\"])\n",
        "\n",
        "cursor.executemany('''\n",
        "    INSERT INTO origins (name, origin)\n",
        "    VALUES (?, ?)\n",
        "''', origins_df.values)\n",
        "\n",
        "cursor.execute('''\n",
        "SELECT * FROM origins LEFT JOIN heroes ON origins.name = heroes.name LEFT JOIN villains ON origins.name = villains.name WHERE origins.origin = 'New York City'\n",
        "''')\n",
        "for row in cursor.fetchall():\n",
        "    print(row)"
      ]
    },
    {
      "cell_type": "markdown",
      "id": "9bf43fe6",
      "metadata": {
        "id": "9bf43fe6"
      },
      "source": [
        "## Bonus Challenge (+5 Points)\n",
        "\n",
        "### Tasks:\n",
        "1. Enhance your project by adding a visual or interactive component.\n",
        "\n",
        "**Options:**\n",
        "- Visualize battles using Matplotlib (e.g., a bar chart showing how many battles each superhero has fought).\n",
        "- Make it interactive (e.g., allow users to input a superhero name and display their battles).\n",
        "\n",
        "✅ **Checkpoint:** If attempting the bonus, ensure that your visualization or interactive component works correctly."
      ]
    },
    {
      "cell_type": "code",
      "execution_count": 33,
      "id": "d97ff36d",
      "metadata": {},
      "outputs": [
        {
          "name": "stdout",
          "output_type": "stream",
          "text": [
            "[(2, 'Iron Man', 'Powered Armor', 'Avengers', 6, 2, 8, 'Villain Wins'), (2, 'Iron Man', 'Powered Armor', 'Avengers', 12, 2, 1, 'Draw'), (2, 'Iron Man', 'Powered Armor', 'Avengers', 25, 2, 5, 'Draw')]\n"
          ]
        }
      ],
      "source": [
        "name = input(\"Enter the name of the hero: \")\n",
        "\n",
        "cursor.execute('''\n",
        "SELECT * FROM heroes LEFT JOIN battles ON battles.hero_id = heroes.id WHERE heroes.name = ?\n",
        "''', (name,))\n",
        "\n",
        "print(cursor.fetchall())"
      ]
    },
    {
      "cell_type": "markdown",
      "id": "89f56c05",
      "metadata": {
        "id": "89f56c05"
      },
      "source": [
        "## Submission Guidelines\n",
        "\n",
        "Each group must submit a **Google Colab Notebook (.ipynb)** containing:\n",
        "- ✅ **Database schema (DDL)**\n",
        "- ✅ **CSV imports & data insertion (DML)**\n",
        "- ✅ **SQL queries & results**\n",
        "- ✅ **Custom feature (bonus if applicable)**"
      ]
    },
    {
      "cell_type": "markdown",
      "id": "61477c9b",
      "metadata": {
        "id": "61477c9b"
      },
      "source": [
        "## Grading Criteria (Total: 25 Points)\n",
        "\n",
        "| Section                 | Points |\n",
        "|-------------------------|--------|\n",
        "| Database Setup          | 5      |\n",
        "| Data Importing         | 10     |\n",
        "| Querying the Data      | 10     |\n",
        "| Extra Feature          | 5      |\n",
        "| Bonus Challenge (Optional) | +5  |"
      ]
    },
    {
      "cell_type": "markdown",
      "id": "92bf6839",
      "metadata": {
        "id": "92bf6839"
      },
      "source": [
        "### Final Notes:\n",
        "- Be **creative** when designing superheroes and villains.\n",
        "- **Comment your code** to explain its functionality.\n",
        "- **Have fun** building your superhero universe!"
      ]
    }
  ],
  "metadata": {
    "colab": {
      "include_colab_link": true,
      "provenance": []
    },
    "kernelspec": {
      "display_name": "Python 3",
      "language": "python",
      "name": "python3"
    },
    "language_info": {
      "codemirror_mode": {
        "name": "ipython",
        "version": 3
      },
      "file_extension": ".py",
      "mimetype": "text/x-python",
      "name": "python",
      "nbconvert_exporter": "python",
      "pygments_lexer": "ipython3",
      "version": "3.11.3"
    }
  },
  "nbformat": 4,
  "nbformat_minor": 5
}
